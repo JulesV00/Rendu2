{
 "cells": [
  {
   "cell_type": "markdown",
   "metadata": {},
   "source": [
    "# Simple Hello World"
   ]
  },
  {
   "cell_type": "code",
   "execution_count": null,
   "metadata": {},
   "outputs": [
    {
     "name": "stdout",
     "output_type": "stream",
     "text": [
      "Bonjour tout le monde !!!\n"
     ]
    }
   ],
   "source": [
    "System.out.println(\"Bonjour tout le monde !!!\")"
   ]
  },
  {
   "cell_type": "code",
   "execution_count": 22,
   "metadata": {},
   "outputs": [
    {
     "name": "stdout",
     "output_type": "stream",
     "text": [
      "Renseigner un entier entre 2 et 15:\n"
     ]
    },
    {
     "name": "stdout",
     "output_type": "stream",
     "text": [
      "La fourchette n'est pas respectée\n",
      "Renseigner un entier entre 2 et 15:\n",
      "Bingo! Vous avez saisi: 6"
     ]
    },
    {
     "data": {
      "text/plain": [
       "java.io.PrintStream@2c736321"
      ]
     },
     "execution_count": 22,
     "metadata": {},
     "output_type": "execute_result"
    }
   ],
   "source": [
    "import java.util.Scanner;\n",
    "\n",
    "Scanner clavier = new Scanner(System.in);\n",
    "int reponse;\n",
    "\n",
    "do\n",
    "{\n",
    "    System.out.println(\"Renseigner un entier entre 2 et 15:\");\n",
    "    reponse = clavier.nextInt();\n",
    "    if(reponse < 2 || reponse > 15)\n",
    "\n",
    "    System.out.println(\"La fourchette n'est pas respectée\");\n",
    "}\n",
    "while(reponse < 2 || reponse > 15);\n",
    "\n",
    "System.out.printf(\"Bingo! Vous avez saisi: %d\", reponse);\n"
   ]
  }
 ],
 "metadata": {
  "kernelspec": {
   "display_name": "Java (rjk 2.2.0)",
   "language": "java",
   "name": "rapaio-jupyter-kernel"
  },
  "language_info": {
   "codemirror_mode": "java",
   "file_extension": ".jshell",
   "mimetype": "text/x-java-source",
   "name": "java",
   "nbconvert_exporter": "script",
   "pygments_lexer": "java",
   "version": "21.0.5+11-LTS"
  }
 },
 "nbformat": 4,
 "nbformat_minor": 2
}
