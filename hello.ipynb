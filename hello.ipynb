{
 "cells": [
  {
   "cell_type": "markdown",
   "metadata": {},
   "source": [
    "# Rendu 2 - 10/03"
   ]
  },
  {
   "cell_type": "markdown",
   "metadata": {},
   "source": [
    "## Étape 1 - Validation d'une saisie"
   ]
  },
  {
   "cell_type": "code",
   "execution_count": 59,
   "metadata": {},
   "outputs": [
    {
     "name": "stdout",
     "output_type": "stream",
     "text": [
      "Renseigner un entier entre 2 et 15:\n"
     ]
    },
    {
     "name": "stdout",
     "output_type": "stream",
     "text": [
      "Bingo! Vous avez saisi: 3"
     ]
    },
    {
     "data": {
      "text/plain": [
       "java.io.PrintStream@362ce26"
      ]
     },
     "execution_count": 59,
     "metadata": {},
     "output_type": "execute_result"
    }
   ],
   "source": [
    "import java.util.Scanner;\n",
    "\n",
    "Scanner clavier = new Scanner(System.in);\n",
    "int reponse;\n",
    "\n",
    "do\n",
    "{\n",
    "    System.out.println(\"Renseigner un entier entre 2 et 15:\");\n",
    "    reponse = clavier.nextInt();\n",
    "    if(reponse < 2 || reponse > 15)\n",
    "\n",
    "    System.out.println(\"La fourchette n'est pas respectée\");\n",
    "}\n",
    "while(reponse < 2 || reponse > 15);\n",
    "\n",
    "System.out.printf(\"Bingo! Vous avez saisi: %d\", reponse);\n"
   ]
  },
  {
   "cell_type": "markdown",
   "metadata": {},
   "source": [
    "# Étape 2 - Dessin de lignes"
   ]
  },
  {
   "cell_type": "code",
   "execution_count": 62,
   "metadata": {},
   "outputs": [
    {
     "name": "stdout",
     "output_type": "stream",
     "text": [
      "Renseigner un entier entre 2 et 15:\n"
     ]
    },
    {
     "name": "stdout",
     "output_type": "stream",
     "text": [
      "* * * \n",
      "* * * \n",
      "* * * \n"
     ]
    }
   ],
   "source": [
    "import java.util.Scanner;\n",
    "Scanner clavier = new Scanner(System.in);\n",
    "int nb;\n",
    "{\n",
    "    System.out.println(\"Renseigner un entier entre 2 et 15:\");\n",
    "    reponse = clavier.nextInt();\n",
    "}\n",
    "for (int i = 0; i < reponse; i++)\n",
    "{    \n",
    "    for (int j = 0; j < reponse; j++)\n",
    "    {\n",
    "        System.out.print(\"* \");\n",
    "    }\n",
    "    System.out.println();\n",
    "}"
   ]
  },
  {
   "cell_type": "code",
   "execution_count": 63,
   "metadata": {},
   "outputs": [
    {
     "name": "stdout",
     "output_type": "stream",
     "text": [
      "Répondez  1:Plein ou 2:Creux\n"
     ]
    },
    {
     "name": "stdout",
     "output_type": "stream",
     "text": [
      "Plein\n"
     ]
    }
   ],
   "source": [
    "import java.util.Scanner;\n",
    "\n",
    "Scanner clavier = new Scanner(System.in);\n",
    "int choix;\n",
    "\n",
    "do\n",
    "{\n",
    "    System.out.println(\"Répondez  1:Plein ou 2:Creux\");\n",
    "    choix = clavier.nextInt();\n",
    "}\n",
    "while(choix != 1 && choix != 2);\n",
    "\n",
    "    if(choix==1)\n",
    "{\n",
    "System.out.println(\"Plein\");\n",
    "}\n",
    "else\n",
    "{\n",
    "    System.out.println(\"Creux\");\n",
    "}"
   ]
  },
  {
   "cell_type": "code",
   "execution_count": 68,
   "metadata": {},
   "outputs": [
    {
     "name": "stdout",
     "output_type": "stream",
     "text": [
      "Répondez  1:Plein ou 2:Creux\n"
     ]
    },
    {
     "name": "stdout",
     "output_type": "stream",
     "text": [
      "Plein\n",
      "\n",
      "Renseigner un entier entre 2 et 15:\n",
      "* * * * \n",
      "* * * * \n",
      "* * * * \n",
      "* * * * \n"
     ]
    }
   ],
   "source": [
    "import java.util.Scanner;\n",
    "\n",
    "Scanner clavier = new Scanner(System.in);\n",
    "int choix;\n",
    "\n",
    "do\n",
    "{\n",
    "    System.out.println(\"Répondez  1:Plein ou 2:Creux\");\n",
    "    choix = clavier.nextInt();\n",
    "}\n",
    "while(choix != 1 && choix != 2);\n",
    "\n",
    "    if(choix==1)\n",
    "{\n",
    "System.out.println(\"Plein\");\n",
    "}\n",
    "else\n",
    "{\n",
    "    System.out.println(\"Creux\");\n",
    "}\n",
    "System.out.println();\n",
    "{\n",
    "    System.out.println(\"Renseigner un entier entre 2 et 15:\");\n",
    "    reponse = clavier.nextInt();\n",
    "}\n",
    "for (int i = 0; i < reponse; i++)\n",
    "{    \n",
    "    for (int j = 0; j < reponse; j++)\n",
    "    {\n",
    "        System.out.print(\"* \");\n",
    "    }\n",
    "    System.out.println();\n",
    "}"
   ]
  }
 ],
 "metadata": {
  "kernelspec": {
   "display_name": "Java (rjk 2.2.0)",
   "language": "java",
   "name": "rapaio-jupyter-kernel"
  },
  "language_info": {
   "codemirror_mode": "java",
   "file_extension": ".jshell",
   "mimetype": "text/x-java-source",
   "name": "java",
   "nbconvert_exporter": "script",
   "pygments_lexer": "java",
   "version": "21.0.5+11-LTS"
  }
 },
 "nbformat": 4,
 "nbformat_minor": 2
}
